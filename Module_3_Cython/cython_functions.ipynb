{
 "cells": [
  {
   "cell_type": "code",
   "execution_count": 6,
   "id": "f2160d6e-1c4d-4200-abe3-da69a4426537",
   "metadata": {},
   "outputs": [
    {
     "name": "stdout",
     "output_type": "stream",
     "text": [
      "The Cython extension is already loaded. To reload it, use:\n",
      "  %reload_ext Cython\n"
     ]
    }
   ],
   "source": [
    "%load_ext Cython"
   ]
  },
  {
   "cell_type": "markdown",
   "id": "500c0a61-5414-427e-a156-71395532294e",
   "metadata": {},
   "source": []
  },
  {
   "cell_type": "markdown",
   "id": "6c01e03d-a0b2-440b-8274-09e857e6f3d3",
   "metadata": {},
   "source": [
    "cdef function"
   ]
  },
  {
   "cell_type": "code",
   "execution_count": 13,
   "id": "e37b2ac3-67ee-4b3e-b7c3-d16e141f973d",
   "metadata": {},
   "outputs": [
    {
     "name": "stdout",
     "output_type": "stream",
     "text": [
      "20\n",
      "19.700000000000003\n"
     ]
    }
   ],
   "source": [
    "%%cython\n",
    "\n",
    "cdef my_func(x, y, z):\n",
    "    return x - y + z\n",
    "\n",
    "print(my_func(10, 20, 30))\n",
    "print(my_func(10.1, 20.9, 30.5))"
   ]
  },
  {
   "cell_type": "markdown",
   "id": "533fd261-4b2b-4a60-ad6a-49b163bde31d",
   "metadata": {},
   "source": [
    "Image, we want to use that function in another cell (Error)"
   ]
  },
  {
   "cell_type": "code",
   "execution_count": 14,
   "id": "0acdc7b4-8900-46a0-a868-e1693c2a54b5",
   "metadata": {},
   "outputs": [
    {
     "ename": "NameError",
     "evalue": "name 'my_func' is not defined",
     "output_type": "error",
     "traceback": [
      "\u001b[0;31m---------------------------------------------------------------------------\u001b[0m",
      "\u001b[0;31mNameError\u001b[0m                                 Traceback (most recent call last)",
      "\u001b[0;32m/tmp/ipykernel_371838/739477431.py\u001b[0m in \u001b[0;36m<module>\u001b[0;34m\u001b[0m\n\u001b[0;32m----> 1\u001b[0;31m \u001b[0mmy_func\u001b[0m\u001b[0;34m(\u001b[0m\u001b[0;36m10\u001b[0m\u001b[0;34m,\u001b[0m \u001b[0;36m20\u001b[0m\u001b[0;34m,\u001b[0m \u001b[0;36m30\u001b[0m\u001b[0;34m)\u001b[0m\u001b[0;34m\u001b[0m\u001b[0;34m\u001b[0m\u001b[0m\n\u001b[0m",
      "\u001b[0;31mNameError\u001b[0m: name 'my_func' is not defined"
     ]
    }
   ],
   "source": [
    "my_func(10, 20, 30)"
   ]
  },
  {
   "cell_type": "markdown",
   "id": "613a02ec-cc89-4c0d-9e7d-949a920e41c1",
   "metadata": {},
   "source": []
  },
  {
   "cell_type": "markdown",
   "id": "e2c14d0a-540b-48c8-8034-5b9d97e4d573",
   "metadata": {},
   "source": [
    "Defining the type of the variables within the function"
   ]
  },
  {
   "cell_type": "code",
   "execution_count": 17,
   "id": "8d65b146-f705-444c-82e7-414eae04b5a5",
   "metadata": {},
   "outputs": [
    {
     "name": "stdout",
     "output_type": "stream",
     "text": [
      "30\n"
     ]
    }
   ],
   "source": [
    "%%cython\n",
    "\n",
    "cdef int better_fun(int x, int y):\n",
    "    return x + y\n",
    "\n",
    "print(better_fun(10, 20))\n",
    "\n",
    "# print(my_func(10.1, 20.9, 30.5))  # This is gonna give error because of float types"
   ]
  },
  {
   "cell_type": "markdown",
   "id": "62591ed0-c53e-4f4a-afe9-1e9c96190aa5",
   "metadata": {},
   "source": []
  },
  {
   "cell_type": "markdown",
   "id": "cbd15a08-019f-47a5-b26c-0dcc58d48288",
   "metadata": {},
   "source": [
    "Hybrid function (Python and C) cpdef"
   ]
  },
  {
   "cell_type": "code",
   "execution_count": 18,
   "id": "a3698b0e-f930-423d-951d-87b227ac140d",
   "metadata": {},
   "outputs": [
    {
     "name": "stdout",
     "output_type": "stream",
     "text": [
      "20\n"
     ]
    }
   ],
   "source": [
    "%%cython\n",
    "\n",
    "cpdef my_func(x, y, z):\n",
    "    return x - y + z\n",
    "\n",
    "print(my_func(10, 20, 30))"
   ]
  },
  {
   "cell_type": "markdown",
   "id": "ac0e50c0-bba6-442e-ad08-17fb6339028d",
   "metadata": {},
   "source": [
    "It can be accessed from another cell"
   ]
  },
  {
   "cell_type": "code",
   "execution_count": 19,
   "id": "3f001f75-2a10-4031-9a09-40cb7cf9aee0",
   "metadata": {},
   "outputs": [
    {
     "name": "stdout",
     "output_type": "stream",
     "text": [
      "2\n"
     ]
    }
   ],
   "source": [
    "print(my_func(1, 2, 3))"
   ]
  }
 ],
 "metadata": {
  "kernelspec": {
   "display_name": "Python 3 (ipykernel)",
   "language": "python",
   "name": "python3"
  },
  "language_info": {
   "codemirror_mode": {
    "name": "ipython",
    "version": 3
   },
   "file_extension": ".py",
   "mimetype": "text/x-python",
   "name": "python",
   "nbconvert_exporter": "python",
   "pygments_lexer": "ipython3",
   "version": "3.8.10"
  }
 },
 "nbformat": 4,
 "nbformat_minor": 5
}
