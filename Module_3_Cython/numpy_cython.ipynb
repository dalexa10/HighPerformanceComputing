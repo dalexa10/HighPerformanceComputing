{
 "cells": [
  {
   "cell_type": "code",
   "execution_count": 1,
   "id": "4416adf5-1f05-4ed4-8cfe-b05bf050bc48",
   "metadata": {},
   "outputs": [],
   "source": [
    "%load_ext cython\n",
    "import numpy as np"
   ]
  },
  {
   "cell_type": "code",
   "execution_count": 2,
   "id": "3f9f0c4b-1129-4ff4-a298-8b8d2d55ee4f",
   "metadata": {},
   "outputs": [],
   "source": [
    "x = np.random.randn(50000)\n",
    "y = np.random.randn(50000)"
   ]
  },
  {
   "cell_type": "code",
   "execution_count": 3,
   "id": "36ac8c0c-768e-4f68-b020-1a22e6ddf8e0",
   "metadata": {},
   "outputs": [],
   "source": [
    "def do_some_op(x, y):\n",
    "    n_x = x.size\n",
    "    n_y = y.size\n",
    "    if n_x != n_y:\n",
    "        return \"Invalid array, both array should be the same size\"\n",
    "    z = np.zeros(n_x)\n",
    "    \n",
    "    for i in range(0, n_x):\n",
    "        z[i] = x[i] + y[i] + i\n",
    "        \n",
    "    return z"
   ]
  },
  {
   "cell_type": "code",
   "execution_count": 4,
   "id": "4ee622c8-1109-493f-961b-c4d41995070f",
   "metadata": {},
   "outputs": [
    {
     "name": "stdout",
     "output_type": "stream",
     "text": [
      "22.4 ms ± 128 µs per loop (mean ± std. dev. of 7 runs, 10 loops each)\n"
     ]
    }
   ],
   "source": [
    "%timeit do_some_op(x, y)"
   ]
  },
  {
   "cell_type": "raw",
   "id": "23c62036-217f-4922-abb1-3695254952aa",
   "metadata": {},
   "source": []
  },
  {
   "cell_type": "markdown",
   "id": "eb371aaf-98dc-4a9b-8348-528f9c65b485",
   "metadata": {},
   "source": [
    "Using Cython"
   ]
  },
  {
   "cell_type": "code",
   "execution_count": 6,
   "id": "9631fd2a-9877-4a76-9aee-9d4e6aa54a98",
   "metadata": {},
   "outputs": [],
   "source": [
    "%%cython\n",
    "import numpy as np \n",
    "def do_some_op_cython(x, y):\n",
    "    n_x = x.size\n",
    "    n_y = y.size\n",
    "    if n_x != n_y:\n",
    "        return \"Invalid array, both array should be the same size\"\n",
    "    z = np.zeros(n_x)\n",
    "    \n",
    "    for i in range(0, n_x):\n",
    "        z[i] = x[i] + y[i] + i\n",
    "        \n",
    "    return z"
   ]
  },
  {
   "cell_type": "code",
   "execution_count": 7,
   "id": "d8c76eff-b26d-4f6f-be7b-1b91ea04b116",
   "metadata": {},
   "outputs": [
    {
     "name": "stdout",
     "output_type": "stream",
     "text": [
      "20 ms ± 570 µs per loop (mean ± std. dev. of 7 runs, 10 loops each)\n"
     ]
    }
   ],
   "source": [
    "%timeit do_some_op_cython(x, y)"
   ]
  },
  {
   "cell_type": "raw",
   "id": "e4df843a-35ec-4b18-b87c-6e6a10c0e62b",
   "metadata": {},
   "source": []
  },
  {
   "cell_type": "markdown",
   "id": "3a289c7f-64e1-430d-82c6-b02f76790f4e",
   "metadata": {},
   "source": [
    "Using Memory Views"
   ]
  },
  {
   "cell_type": "code",
   "execution_count": 9,
   "id": "727aa094-4e26-4d09-8818-89eda00d8b54",
   "metadata": {},
   "outputs": [],
   "source": [
    "%%cython\n",
    "import numpy as np \n",
    "def do_some_op_static(double[::1] x, double[::1] y):\n",
    "    n_x = x.size\n",
    "    n_y = y.size\n",
    "    if n_x != n_y:\n",
    "        return \"Invalid array, both array should be the same size\"\n",
    "    \n",
    "    cdef double[::1] z = np.zeros(n_x)\n",
    "    cdef int i\n",
    "    \n",
    "    for i in range(0, n_x):\n",
    "        z[i] = x[i] + y[i] + i\n",
    "        \n",
    "    return z"
   ]
  },
  {
   "cell_type": "code",
   "execution_count": 10,
   "id": "b112d8f4-aaee-47ac-a1cd-9fe3494ab9c8",
   "metadata": {},
   "outputs": [
    {
     "name": "stdout",
     "output_type": "stream",
     "text": [
      "98.5 µs ± 3.78 µs per loop (mean ± std. dev. of 7 runs, 10000 loops each)\n"
     ]
    }
   ],
   "source": [
    "%timeit do_some_op_static(x, y)"
   ]
  },
  {
   "cell_type": "markdown",
   "id": "a8c0a193-74f1-401b-8141-2c6b7d97fcfa",
   "metadata": {},
   "source": []
  },
  {
   "cell_type": "markdown",
   "id": "60cbeff0-e528-43a1-b626-0e0e8e8d7798",
   "metadata": {},
   "source": [
    "Tuning off the check for negatibve indexing and out of the bound indices"
   ]
  },
  {
   "cell_type": "code",
   "execution_count": 12,
   "id": "aca06b25-3b66-48e2-983e-7874a1cdca46",
   "metadata": {},
   "outputs": [],
   "source": [
    "%%cython\n",
    "import numpy as np \n",
    "from cython import boundscheck, wraparound\n",
    "\n",
    "@boundscheck(False)\n",
    "@wraparound(False)\n",
    "def do_some_op_no_bounds(double[::1] x, double[::1] y):\n",
    "    n_x = x.size\n",
    "    n_y = y.size\n",
    "    if n_x != n_y:\n",
    "        return \"Invalid array, both array should be the same size\"\n",
    "    \n",
    "    cdef double[::1] z = np.zeros(n_x)\n",
    "    cdef int i\n",
    "    \n",
    "    for i in range(0, n_x):\n",
    "        z[i] = x[i] + y[i] + i\n",
    "        \n",
    "    return z"
   ]
  },
  {
   "cell_type": "code",
   "execution_count": 13,
   "id": "8d19a92b-ec11-4282-bff0-8bd6b576a21d",
   "metadata": {},
   "outputs": [
    {
     "name": "stdout",
     "output_type": "stream",
     "text": [
      "62.9 µs ± 6.32 µs per loop (mean ± std. dev. of 7 runs, 10000 loops each)\n"
     ]
    }
   ],
   "source": [
    "%timeit do_some_op_no_bounds(x, y)"
   ]
  }
 ],
 "metadata": {
  "kernelspec": {
   "display_name": "Python 3 (ipykernel)",
   "language": "python",
   "name": "python3"
  },
  "language_info": {
   "codemirror_mode": {
    "name": "ipython",
    "version": 3
   },
   "file_extension": ".py",
   "mimetype": "text/x-python",
   "name": "python",
   "nbconvert_exporter": "python",
   "pygments_lexer": "ipython3",
   "version": "3.8.10"
  }
 },
 "nbformat": 4,
 "nbformat_minor": 5
}
