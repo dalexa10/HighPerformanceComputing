{
 "cells": [
  {
   "cell_type": "markdown",
   "id": "3aee75f7-b535-4184-8456-199e0eec0215",
   "metadata": {},
   "source": [
    "Simple Python Code"
   ]
  },
  {
   "cell_type": "code",
   "execution_count": 1,
   "id": "98276152-5359-46b9-9248-f5be1a4ac413",
   "metadata": {},
   "outputs": [],
   "source": [
    "def factorial(n):\n",
    "    fact = 1\n",
    "    for x in range(2, n+1):\n",
    "        fact = fact * x\n",
    "    return fact"
   ]
  },
  {
   "cell_type": "code",
   "execution_count": 2,
   "id": "ae37c269-61d3-4e63-977d-f1c9e201062d",
   "metadata": {},
   "outputs": [
    {
     "data": {
      "text/plain": [
       "6"
      ]
     },
     "execution_count": 2,
     "metadata": {},
     "output_type": "execute_result"
    }
   ],
   "source": [
    "factorial(3)"
   ]
  },
  {
   "cell_type": "code",
   "execution_count": 4,
   "id": "1dd5daf1-2253-4c0d-9c4f-9e9e700a4757",
   "metadata": {},
   "outputs": [
    {
     "name": "stdout",
     "output_type": "stream",
     "text": [
      "306 ms ± 8.12 ms per loop (mean ± std. dev. of 7 runs, 1 loop each)\n"
     ]
    }
   ],
   "source": [
    "%timeit factorial(40000)"
   ]
  },
  {
   "cell_type": "raw",
   "id": "566e1bec-dfb7-4741-b0b8-b9cb0dbc615b",
   "metadata": {},
   "source": []
  },
  {
   "cell_type": "markdown",
   "id": "267b9a7a-2c95-424f-8b15-72fc22db1832",
   "metadata": {},
   "source": [
    "Using code as Cython"
   ]
  },
  {
   "cell_type": "code",
   "execution_count": 7,
   "id": "320c4e84-428c-41d7-b6af-42ad1b8f428a",
   "metadata": {},
   "outputs": [
    {
     "name": "stdout",
     "output_type": "stream",
     "text": [
      "/usr/lib/python3/dist-packages/secretstorage/dhcrypto.py:15: CryptographyDeprecationWarning: int_from_bytes is deprecated, use int.from_bytes instead\n",
      "  from cryptography.utils import int_from_bytes\n",
      "/usr/lib/python3/dist-packages/secretstorage/util.py:19: CryptographyDeprecationWarning: int_from_bytes is deprecated, use int.from_bytes instead\n",
      "  from cryptography.utils import int_from_bytes\n",
      "Collecting cython\n",
      "  Downloading Cython-0.29.26-cp38-cp38-manylinux_2_17_x86_64.manylinux2014_x86_64.manylinux_2_24_x86_64.whl (1.9 MB)\n",
      "\u001b[K     |████████████████████████████████| 1.9 MB 16.0 MB/s eta 0:00:01\n",
      "\u001b[?25hInstalling collected packages: cython\n",
      "Successfully installed cython-0.29.26\n",
      "Note: you may need to restart the kernel to use updated packages.\n"
     ]
    }
   ],
   "source": [
    "pip install cython"
   ]
  },
  {
   "cell_type": "code",
   "execution_count": 1,
   "id": "af6a1650-f972-4cac-8892-959dd1416765",
   "metadata": {},
   "outputs": [],
   "source": [
    "%load_ext Cython"
   ]
  },
  {
   "cell_type": "code",
   "execution_count": 3,
   "id": "60c67a82-97df-40ce-b97c-9c4743146afa",
   "metadata": {},
   "outputs": [],
   "source": [
    "%%cython\n",
    "def factorial_cy(n):\n",
    "    fact = 1\n",
    "    for x in range(2, n+1):\n",
    "        fact = fact * x\n",
    "    return fact"
   ]
  },
  {
   "cell_type": "code",
   "execution_count": 4,
   "id": "1c68d36d-09a5-4584-91ee-92e2a5c81108",
   "metadata": {},
   "outputs": [
    {
     "name": "stdout",
     "output_type": "stream",
     "text": [
      "306 ms ± 8.07 ms per loop (mean ± std. dev. of 7 runs, 1 loop each)\n"
     ]
    }
   ],
   "source": [
    "%timeit factorial_cy(40000)"
   ]
  },
  {
   "cell_type": "raw",
   "id": "698dad89-6c1a-46c1-9885-74d666bc732a",
   "metadata": {},
   "source": []
  },
  {
   "cell_type": "markdown",
   "id": "65be1866-2355-4254-93d5-07bc75a2eed6",
   "metadata": {},
   "source": [
    "Using Cython data types"
   ]
  },
  {
   "cell_type": "code",
   "execution_count": 5,
   "id": "1a7c5ab1-e8dd-4fff-bb7e-38e6914853ed",
   "metadata": {},
   "outputs": [],
   "source": [
    "%%cython\n",
    "def factorial_cData(n):\n",
    "    cdef int fact = 1\n",
    "    cdef int x\n",
    "    for x in range(2, n+1):\n",
    "        fact = fact * x\n",
    "    return fact"
   ]
  },
  {
   "cell_type": "code",
   "execution_count": 6,
   "id": "b3419872-f597-41b0-806b-d406bd1eac45",
   "metadata": {},
   "outputs": [
    {
     "name": "stdout",
     "output_type": "stream",
     "text": [
      "35.8 µs ± 74.7 ns per loop (mean ± std. dev. of 7 runs, 10000 loops each)\n"
     ]
    }
   ],
   "source": [
    "%timeit factorial_cData(40000)"
   ]
  },
  {
   "cell_type": "markdown",
   "id": "25e5f355-ed57-4630-8f4c-f98883f21eb4",
   "metadata": {},
   "source": [
    "It's clearly less time than convetional code... "
   ]
  }
 ],
 "metadata": {
  "kernelspec": {
   "display_name": "Python 3 (ipykernel)",
   "language": "python",
   "name": "python3"
  },
  "language_info": {
   "codemirror_mode": {
    "name": "ipython",
    "version": 3
   },
   "file_extension": ".py",
   "mimetype": "text/x-python",
   "name": "python",
   "nbconvert_exporter": "python",
   "pygments_lexer": "ipython3",
   "version": "3.8.10"
  }
 },
 "nbformat": 4,
 "nbformat_minor": 5
}
